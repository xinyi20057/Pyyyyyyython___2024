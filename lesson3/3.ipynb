{
 "cells": [
  {
   "cell_type": "code",
   "execution_count": 5,
   "metadata": {},
   "outputs": [],
   "source": [
    "import math"
   ]
  },
  {
   "cell_type": "code",
   "execution_count": 17,
   "metadata": {},
   "outputs": [
    {
     "name": "stdout",
     "output_type": "stream",
     "text": [
      "1.0臺斤=0.6公斤\n"
     ]
    }
   ],
   "source": [
    "a=float(input(\"臺斤\"))\n",
    "b=a*0.6\n",
    "#print(str(a)+\"臺斤=\"+str(b)+\"公斤\")\n",
    "print(f\"{a}臺斤={b}公斤\")"
   ]
  },
  {
   "cell_type": "code",
   "execution_count": 24,
   "metadata": {},
   "outputs": [
    {
     "name": "stdout",
     "output_type": "stream",
     "text": [
      "0.0您好，您的BMI值是16.0。\n"
     ]
    }
   ],
   "source": [
    "a=float(input(\"name\"))\n",
    "b=float(input(\"身高(cm)\"))\n",
    "c=float(input(\"體重(kg)\"))\n",
    "d=c/((0.01*b)*(0.01*b))\n",
    "print(f\"{a}您好，您的BMI值是{d}。\")"
   ]
  }
 ],
 "metadata": {
  "kernelspec": {
   "display_name": "Python 3",
   "language": "python",
   "name": "python3"
  },
  "language_info": {
   "codemirror_mode": {
    "name": "ipython",
    "version": 3
   },
   "file_extension": ".py",
   "mimetype": "text/x-python",
   "name": "python",
   "nbconvert_exporter": "python",
   "pygments_lexer": "ipython3",
   "version": "3.11.9"
  }
 },
 "nbformat": 4,
 "nbformat_minor": 2
}
