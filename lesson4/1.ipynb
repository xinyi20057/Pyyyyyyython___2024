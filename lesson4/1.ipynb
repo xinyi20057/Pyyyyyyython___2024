{
 "cells": [
  {
   "cell_type": "code",
   "execution_count": 17,
   "metadata": {},
   "outputs": [
    {
     "name": "stdout",
     "output_type": "stream",
     "text": [
      "阿姨\n"
     ]
    }
   ],
   "source": [
    "a=int(input('age'))\n",
    "if a>=20:\n",
    "    print(\"阿姨\")\n",
    "else:\n",
    "    print(\"妹仔\")\n",
    "\n"
   ]
  },
  {
   "cell_type": "code",
   "execution_count": 37,
   "metadata": {},
   "outputs": [
    {
     "name": "stdout",
     "output_type": "stream",
     "text": [
      "score:39\n",
      "end\n"
     ]
    }
   ],
   "source": [
    "import math\n",
    "try:\n",
    "    s=int(input(\"score:\"))\n",
    "    if s>100:\n",
    "        raise Exception\n",
    "except ValueError:\n",
    "    print(\"error\")\n",
    "except Exception:\n",
    "    print(\"OVER RANGE\")\n",
    "else:\n",
    "    r=input(\"yes or not\")\n",
    "    if r==\"yes\":\n",
    "        s*=1.05\n",
    "        s=math.ceil(s)\n",
    "        if s>100:\n",
    "            s=100\n",
    "    print(f\"score:{s}\")\n",
    "print(\"end\")"
   ]
  },
  {
   "cell_type": "code",
   "execution_count": 1,
   "metadata": {},
   "outputs": [
    {
     "name": "stdout",
     "output_type": "stream",
     "text": [
      "00您好，您的BMI值為：20.2，體重屬於:正常範圍\n"
     ]
    }
   ],
   "source": [
    "try:\n",
    "    name=input(\"請輸入姓名：\")\n",
    "    cm=float(input(\"請輸入身高(cm)：\"))\n",
    "    kg=float(input(\"請輸入體重(kg)：\"))\n",
    "    BMI=round(kg/(cm/100)**2,2)\n",
    "    if BMI>=35:\n",
    "        grade=\"重度肥胖\"\n",
    "    elif BMI >=30:\n",
    "        grade=\"中度肥胖\"\n",
    "elif BMI >=27:\n",
    "    grade=\"輕度肥胖\"\n",
    "elif BMI >=24:\n",
    "    grade=\"過重\"\n",
    "elif BMI >=18.5:\n",
    "    grade=\"正常範圍\"\n",
    "else:\n",
    "    grade=\"體重過輕\"\n",
    "print(f\"{name}您好，您的BMI值為：{BMI}，體重屬於:{grade}\")"
   ]
  },
  {
   "cell_type": "code",
   "execution_count": 50,
   "metadata": {},
   "outputs": [
    {
     "name": "stdout",
     "output_type": "stream",
     "text": [
      "GRADE=A\n"
     ]
    }
   ],
   "source": [
    "s=int(input(\"score:\"))\n",
    "if s>=90:\n",
    "    g=\"A\"\n",
    "elif s>=80:\n",
    "    g=\"B\"\n",
    "elif s>=70:\n",
    "    g=\"C\"\n",
    "elif s>=60:\n",
    "    g=\"D\"\n",
    "else:\n",
    "    g=\"F\"\n",
    "\n",
    "print(f\"GRADE={g}\")\n",
    "\n"
   ]
  },
  {
   "cell_type": "code",
   "execution_count": 4,
   "metadata": {},
   "outputs": [
    {
     "name": "stdout",
     "output_type": "stream",
     "text": [
      "00，您的BMI=16.0，屬於過輕。\n"
     ]
    }
   ],
   "source": [
    "import math\n",
    "a=input(\"NAME:\")\n",
    "h=float(input(\"High(cm):\"))/100\n",
    "w=float(input(\"Wight(kg):\"))\n",
    "b=round(w/(h**2),2)\n",
    "if b>=35:\n",
    "    print(f\"{a}，您的BMI={b}，屬於重度肥胖。\")\n",
    "elif b>=30:\n",
    "    print(f\"{a}，您的BMI={b}，屬於中度肥胖。\")\n",
    "elif b>=27:\n",
    "    print(f\"{a}，您的BMI={b}，屬於輕度肥胖。\")\n",
    "elif b>=24:\n",
    "    print(f\"{a}，您的BMI={b}，屬於過重。\")\n",
    "elif b>=18.5:\n",
    "     print(f\"{a}，您的BMI={b}，屬於正常。\")\n",
    "else:\n",
    "    print(f\"{a}，您的BMI={b}，屬於過輕。\")"
   ]
  },
  {
   "cell_type": "code",
   "execution_count": 2,
   "metadata": {},
   "outputs": [
    {
     "name": "stdout",
     "output_type": "stream",
     "text": [
      "輸入格式錯誤\n"
     ]
    }
   ],
   "source": [
    "a=input('NAME:')\n",
    "try:\n",
    "    h=float(input('身高(cm):'))/100\n",
    "    w=float(input('體重(kg):'))\n",
    "    b=round(w/(h**2),2)\n",
    "    if b>=35:\n",
    "        G=\"屬於重度肥胖。\"\n",
    "    elif b>=30:\n",
    "        G=\"屬於中度肥胖。\"\n",
    "    elif b>=27:\n",
    "        G=\"屬於輕度肥胖。\" \n",
    "    elif b>=24:\n",
    "        G=\"屬於過重。\"\n",
    "    elif b>=18.5:\n",
    "        G=\"屬於正常。\"\n",
    "    else:\n",
    "        G=\"屬於過輕。\"\n",
    "    print(f\"{a}您好，您的BMI値為{b}，體重屬於{G}\")\n",
    "except Exception:\n",
    "    print(\"輸入格式錯誤\")\n"
   ]
  },
  {
   "cell_type": "code",
   "execution_count": 2,
   "metadata": {},
   "outputs": [
    {
     "name": "stdout",
     "output_type": "stream",
     "text": [
      "00您好:\n",
      "BMI值是:20.2\n",
      "體重:適中\n"
     ]
    }
   ],
   "source": [
    "try:\n",
    "    name=str(input(\"請輸入姓名\"))\n",
    "    cm=int(input(\"請輸入身高(cm)\"))\n",
    "    kg=int(input(\"請輸入體重(kg)\"))\n",
    "    if (cm<=0 or kg<=0):\n",
    "        raise Exception\n",
    "except ValueError:\n",
    "    print(\"格式輸入錯誤\")\n",
    "except Exception:\n",
    "    print(\"身高或體重輸入錯誤\")\n",
    "else:\n",
    "    m=float(cm/100)\n",
    "    BMI=float(round(kg/m**2,2))\n",
    "    if BMI<18.5:\n",
    "        kg_check=\"過輕\"\n",
    "    elif BMI<24:\n",
    "        kg_check=\"適中\"\n",
    "    elif BMI<27:\n",
    "        kg_check=\"過重\"\n",
    "    elif BMI<30:\n",
    "        kg_check=\"輕度肥胖\"\n",
    "    elif BMI<35:\n",
    "        kg_check=\"中度肥胖\"\n",
    "    else:\n",
    "        kg_check=\"過度肥胖\"\n",
    "    print(f\"{name}您好:\")\n",
    "    print(f\"BMI值是:{BMI}\")\n",
    "    print(f\"體重:{kg_check}\")"
   ]
  }
 ],
 "metadata": {
  "kernelspec": {
   "display_name": "Python 3",
   "language": "python",
   "name": "python3"
  },
  "language_info": {
   "codemirror_mode": {
    "name": "ipython",
    "version": 3
   },
   "file_extension": ".py",
   "mimetype": "text/x-python",
   "name": "python",
   "nbconvert_exporter": "python",
   "pygments_lexer": "ipython3",
   "version": "3.11.9"
  }
 },
 "nbformat": 4,
 "nbformat_minor": 2
}
