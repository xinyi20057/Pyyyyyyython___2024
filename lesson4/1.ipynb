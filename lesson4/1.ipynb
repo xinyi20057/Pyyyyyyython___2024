{
 "cells": [
  {
   "cell_type": "code",
   "execution_count": 17,
   "metadata": {},
   "outputs": [
    {
     "name": "stdout",
     "output_type": "stream",
     "text": [
      "阿姨\n"
     ]
    }
   ],
   "source": [
    "a=int(input('age'))\n",
    "if a>=20:\n",
    "    print(\"阿姨\")\n",
    "else:\n",
    "    print(\"妹仔\")\n",
    "\n"
   ]
  },
  {
   "cell_type": "code",
   "execution_count": 37,
   "metadata": {},
   "outputs": [
    {
     "name": "stdout",
     "output_type": "stream",
     "text": [
      "score:39\n",
      "end\n"
     ]
    }
   ],
   "source": [
    "import math\n",
    "try:\n",
    "    s=int(input(\"score:\"))\n",
    "    if s>100:\n",
    "        raise Exception\n",
    "except ValueError:\n",
    "    print(\"error\")\n",
    "except Exception:\n",
    "    print(\"OVER RANGE\")\n",
    "else:\n",
    "    r=input(\"yes or not\")\n",
    "    if r==\"yes\":\n",
    "        s*=1.05\n",
    "        s=math.ceil(s)\n",
    "        if s>100:\n",
    "            s=100\n",
    "    print(f\"score:{s}\")\n",
    "print(\"end\")"
   ]
  },
  {
   "cell_type": "code",
   "execution_count": 50,
   "metadata": {},
   "outputs": [
    {
     "name": "stdout",
     "output_type": "stream",
     "text": [
      "GRADE=A\n"
     ]
    }
   ],
   "source": [
    "s=int(input(\"score:\"))\n",
    "if s>=90:\n",
    "    g=\"A\"\n",
    "elif s>=80:\n",
    "    g=\"B\"\n",
    "elif s>=70:\n",
    "    g=\"C\"\n",
    "elif s>=60:\n",
    "    g=\"D\"\n",
    "else:\n",
    "    g=\"F\"\n",
    "\n",
    "print(f\"GRADE={g}\")\n",
    "\n"
   ]
  }
 ],
 "metadata": {
  "kernelspec": {
   "display_name": "Python 3",
   "language": "python",
   "name": "python3"
  },
  "language_info": {
   "codemirror_mode": {
    "name": "ipython",
    "version": 3
   },
   "file_extension": ".py",
   "mimetype": "text/x-python",
   "name": "python",
   "nbconvert_exporter": "python",
   "pygments_lexer": "ipython3",
   "version": "3.11.9"
  }
 },
 "nbformat": 4,
 "nbformat_minor": 2
}
