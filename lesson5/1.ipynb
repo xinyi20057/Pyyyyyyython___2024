{
 "cells": [
  {
   "cell_type": "code",
   "execution_count": 7,
   "metadata": {},
   "outputs": [
    {
     "name": "stdout",
     "output_type": "stream",
     "text": [
      "葛萊芬多加10分\n"
     ]
    }
   ],
   "source": [
    "#使用巢狀判斷\n",
    "c=int(input(\"chinese score:\"))\n",
    "m=int(input(\"math score:\"))\n",
    "if c==100:\n",
    "    if m==100:\n",
    "        b=\"加10分\"\n",
    "    else:\n",
    "        b=\"加5分\"\n",
    "else:\n",
    "    if m==100:\n",
    "        b=\"加5分\"\n",
    "    else:\n",
    "        b=\"扣1000分\"\n",
    "print(f\"葛萊芬多{b}\")"
   ]
  },
  {
   "cell_type": "code",
   "execution_count": 9,
   "metadata": {},
   "outputs": [
    {
     "name": "stdout",
     "output_type": "stream",
     "text": [
      "葛萊芬多扣1000分\n"
     ]
    }
   ],
   "source": [
    "#使用邏輯運算子\n",
    "c=int(input(\"chinese score:\"))\n",
    "m=int(input(\"math score:\"))\n",
    "if c==100 and m==100:\n",
    "    b=\"加10分\"\n",
    "elif c==100 or m==100:\n",
    "    b=\"加5分\"\n",
    "else:\n",
    "    b=\"扣1000分\"\n",
    "print(f\"葛萊芬多{b}\")"
   ]
  },
  {
   "cell_type": "code",
   "execution_count": 11,
   "metadata": {},
   "outputs": [
    {
     "name": "stdout",
     "output_type": "stream",
     "text": [
      "血壓不正常\n"
     ]
    }
   ],
   "source": [
    "b=int(input(\"請輸入血壓值：\"))\n",
    "if 80<=b<=120:\n",
    "    #if b>=80 and b<=120:\n",
    "    print(\"血壓正常\")\n",
    "else:\n",
    "    print(\"血壓不正常\")"
   ]
  },
  {
   "cell_type": "code",
   "execution_count": 17,
   "metadata": {},
   "outputs": [
    {
     "name": "stdout",
     "output_type": "stream",
     "text": [
      "0.0,your bmi=20.37,you arenormal\n"
     ]
    }
   ],
   "source": [
    "try:\n",
    "    n=float(input(\"name:\"))\n",
    "    h=float(input(\"cm:\"))/100\n",
    "    w=float(input(\"kg:\"))\n",
    "    b=round(w/h**2,2)\n",
    "    if 18.5<=b<=24:\n",
    "        g=\"normal\"\n",
    "    elif 24<=b<27:\n",
    "        g=\"little fat\"\n",
    "    elif 27<=b<30:\n",
    "        g=\"quite fat\"\n",
    "    elif 30<=b<35:\n",
    "        g=\"really fat\"\n",
    "    elif b>=35:\n",
    "        g=\"super fat\"\n",
    "    else:\n",
    "        g=\"skineey\"\n",
    "    print(f\"{n},your bmi={b},you are{g}\")\n",
    "except Exception:\n",
    "    print(\"輸入格式錯誤\")\n"
   ]
  },
  {
   "cell_type": "code",
   "execution_count": 18,
   "metadata": {},
   "outputs": [
    {
     "name": "stdout",
     "output_type": "stream",
     "text": [
      "55\n"
     ]
    }
   ],
   "source": [
    "sum=0\n",
    "sum+=1\n",
    "sum+=2\n",
    "sum+=3\n",
    "sum+=4\n",
    "sum+=5\n",
    "sum+=6\n",
    "sum+=7\n",
    "sum+=8\n",
    "sum+=9\n",
    "sum+=10\n",
    "print(sum)"
   ]
  },
  {
   "cell_type": "code",
   "execution_count": 20,
   "metadata": {},
   "outputs": [
    {
     "name": "stdout",
     "output_type": "stream",
     "text": [
      "55\n"
     ]
    }
   ],
   "source": [
    "sum=0\n",
    "for i in range(1,11):\n",
    "    sum+=i\n",
    "print(sum)"
   ]
  },
  {
   "cell_type": "code",
   "execution_count": 22,
   "metadata": {},
   "outputs": [
    {
     "name": "stdout",
     "output_type": "stream",
     "text": [
      "1\n",
      "2\n",
      "3\n",
      "4\n",
      "5\n",
      "6\n",
      "10\n",
      "12\n",
      "15\n",
      "20\n",
      "30\n",
      "60\n"
     ]
    }
   ],
   "source": [
    "v=int(input(\"number:\"))\n",
    "for n in range(1,v+1):\n",
    "    if v%n==0:\n",
    "        print(n)"
   ]
  },
  {
   "cell_type": "code",
   "execution_count": 25,
   "metadata": {},
   "outputs": [
    {
     "name": "stdout",
     "output_type": "stream",
     "text": [
      "1 * 1 =1\t1 * 2 =2\t1 * 3 =3\t1 * 4 =4\t1 * 5 =5\t1 * 6 =6\t1 * 7 =7\t1 * 8 =8\t1 * 9 =9\t\n",
      "2 * 1 =2\t2 * 2 =4\t2 * 3 =6\t2 * 4 =8\t2 * 5 =10\t2 * 6 =12\t2 * 7 =14\t2 * 8 =16\t2 * 9 =18\t\n",
      "3 * 1 =3\t3 * 2 =6\t3 * 3 =9\t3 * 4 =12\t3 * 5 =15\t3 * 6 =18\t3 * 7 =21\t3 * 8 =24\t3 * 9 =27\t\n",
      "4 * 1 =4\t4 * 2 =8\t4 * 3 =12\t4 * 4 =16\t4 * 5 =20\t4 * 6 =24\t4 * 7 =28\t4 * 8 =32\t4 * 9 =36\t\n",
      "5 * 1 =5\t5 * 2 =10\t5 * 3 =15\t5 * 4 =20\t5 * 5 =25\t5 * 6 =30\t5 * 7 =35\t5 * 8 =40\t5 * 9 =45\t\n",
      "6 * 1 =6\t6 * 2 =12\t6 * 3 =18\t6 * 4 =24\t6 * 5 =30\t6 * 6 =36\t6 * 7 =42\t6 * 8 =48\t6 * 9 =54\t\n",
      "7 * 1 =7\t7 * 2 =14\t7 * 3 =21\t7 * 4 =28\t7 * 5 =35\t7 * 6 =42\t7 * 7 =49\t7 * 8 =56\t7 * 9 =63\t\n",
      "8 * 1 =8\t8 * 2 =16\t8 * 3 =24\t8 * 4 =32\t8 * 5 =40\t8 * 6 =48\t8 * 7 =56\t8 * 8 =64\t8 * 9 =72\t\n",
      "9 * 1 =9\t9 * 2 =18\t9 * 3 =27\t9 * 4 =36\t9 * 5 =45\t9 * 6 =54\t9 * 7 =63\t9 * 8 =72\t9 * 9 =81\t\n"
     ]
    }
   ],
   "source": [
    "for i in range(1,10):\n",
    "    for j in range(1,10):\n",
    "        print(f\"{i} * {j} ={i * j}\",end=\"\\t\")\n",
    "    print()#換行"
   ]
  },
  {
   "cell_type": "code",
   "execution_count": 33,
   "metadata": {},
   "outputs": [
    {
     "name": "stdout",
     "output_type": "stream",
     "text": [
      "2/4/8@\n",
      "hello hhhhh\n",
      "h/y\n"
     ]
    }
   ],
   "source": [
    "(x, y, z)=(2, 4, 8)\n",
    "print(x,y,z,sep=\"/\",end=\"@\\n\")\n",
    "print(\"hello\",\"hhhhh\")\n",
    "print(\"h\",\"y\",sep=\"/\")"
   ]
  },
  {
   "cell_type": "code",
   "execution_count": 35,
   "metadata": {},
   "outputs": [
    {
     "name": "stdout",
     "output_type": "stream",
     "text": [
      "60>6\n"
     ]
    }
   ],
   "source": [
    "v1=int(input(\"number1:\"))\n",
    "v2=int(input(\"number2:\"))\n",
    "if v1>v2:\n",
    "    min=v2\n",
    "    max=v1\n",
    "else:\n",
    "    min=v1\n",
    "    max=v2\n",
    "print(f\"{max}>{min}\")"
   ]
  },
  {
   "cell_type": "code",
   "execution_count": 36,
   "metadata": {},
   "outputs": [
    {
     "name": "stdout",
     "output_type": "stream",
     "text": [
      "60>6\n"
     ]
    }
   ],
   "source": [
    "v1=int(input(\"number1:\"))\n",
    "v2=int(input(\"number2:\"))\n",
    "(max,min)=(v1,v2) if v1>v2 else (v2,v1)\n",
    "print(f\"{max}>{min}\")"
   ]
  },
  {
   "cell_type": "code",
   "execution_count": 23,
   "metadata": {},
   "outputs": [
    {
     "name": "stdout",
     "output_type": "stream",
     "text": [
      "20&15的公因數：1、\n",
      "20&15的公因數：5、\n"
     ]
    }
   ],
   "source": [
    "v1=int(input(\"no.1:\"))\n",
    "v2=int(input(\"no.2:\"))\n",
    "(max,min)=(v1,v2) if v1>v2 else (v2,v1)\n",
    "for n in range(1,max+1):\n",
    "    if max%n==0 and min%n==0:\n",
    "        print(f\"{max}&{min}的公因數：{n}\",end=\"、\\n\")\n",
    "       \n"
   ]
  },
  {
   "cell_type": "code",
   "execution_count": 44,
   "metadata": {},
   "outputs": [
    {
     "name": "stdout",
     "output_type": "stream",
     "text": [
      "total=55\n",
      " 程式結束\n"
     ]
    }
   ],
   "source": [
    "t=0\n",
    "i=1\n",
    "while i<=10:\n",
    "    t+=i\n",
    "    i+=1\n",
    "print(f\"total={t}\\n 程式結束\")"
   ]
  },
  {
   "cell_type": "code",
   "execution_count": null,
   "metadata": {},
   "outputs": [],
   "source": []
  }
 ],
 "metadata": {
  "kernelspec": {
   "display_name": "Python 3",
   "language": "python",
   "name": "python3"
  },
  "language_info": {
   "codemirror_mode": {
    "name": "ipython",
    "version": 3
   },
   "file_extension": ".py",
   "mimetype": "text/x-python",
   "name": "python",
   "nbconvert_exporter": "python",
   "pygments_lexer": "ipython3",
   "version": "3.11.9"
  }
 },
 "nbformat": 4,
 "nbformat_minor": 2
}
