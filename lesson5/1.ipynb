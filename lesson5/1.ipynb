{
 "cells": [
  {
   "cell_type": "code",
   "execution_count": 7,
   "metadata": {},
   "outputs": [
    {
     "name": "stdout",
     "output_type": "stream",
     "text": [
      "葛萊芬多加10分\n"
     ]
    }
   ],
   "source": [
    "#使用巢狀判斷\n",
    "c=int(input(\"chinese score:\"))\n",
    "m=int(input(\"math score:\"))\n",
    "if c==100:\n",
    "    if m==100:\n",
    "        b=\"加10分\"\n",
    "    else:\n",
    "        b=\"加5分\"\n",
    "else:\n",
    "    if m==100:\n",
    "        b=\"加5分\"\n",
    "    else:\n",
    "        b=\"扣1000分\"\n",
    "print(f\"葛萊芬多{b}\")"
   ]
  },
  {
   "cell_type": "code",
   "execution_count": 9,
   "metadata": {},
   "outputs": [
    {
     "name": "stdout",
     "output_type": "stream",
     "text": [
      "葛萊芬多扣1000分\n"
     ]
    }
   ],
   "source": [
    "#使用邏輯運算子\n",
    "c=int(input(\"chinese score:\"))\n",
    "m=int(input(\"math score:\"))\n",
    "if c==100 and m==100:\n",
    "    b=\"加10分\"\n",
    "elif c==100 or m==100:\n",
    "    b=\"加5分\"\n",
    "else:\n",
    "    b=\"扣1000分\"\n",
    "print(f\"葛萊芬多{b}\")"
   ]
  },
  {
   "cell_type": "code",
   "execution_count": 11,
   "metadata": {},
   "outputs": [
    {
     "name": "stdout",
     "output_type": "stream",
     "text": [
      "血壓不正常\n"
     ]
    }
   ],
   "source": [
    "b=int(input(\"請輸入血壓值：\"))\n",
    "if 80<=b<=120:\n",
    "    #if b>=80 and b<=120:\n",
    "    print(\"血壓正常\")\n",
    "else:\n",
    "    print(\"血壓不正常\")"
   ]
  },
  {
   "cell_type": "code",
   "execution_count": 17,
   "metadata": {},
   "outputs": [
    {
     "name": "stdout",
     "output_type": "stream",
     "text": [
      "0.0,your bmi=20.37,you arenormal\n"
     ]
    }
   ],
   "source": [
    "try:\n",
    "    n=float(input(\"name:\"))\n",
    "    h=float(input(\"cm:\"))/100\n",
    "    w=float(input(\"kg:\"))\n",
    "    b=round(w/h**2,2)\n",
    "    if 18.5<=b<=24:\n",
    "        g=\"normal\"\n",
    "    elif 24<=b<27:\n",
    "        g=\"little fat\"\n",
    "    elif 27<=b<30:\n",
    "        g=\"quite fat\"\n",
    "    elif 30<=b<35:\n",
    "        g=\"really fat\"\n",
    "    elif b>=35:\n",
    "        g=\"super fat\"\n",
    "    else:\n",
    "        g=\"skineey\"\n",
    "    print(f\"{n},your bmi={b},you are{g}\")\n",
    "except Exception:\n",
    "    print(\"輸入格式錯誤\")\n"
   ]
  },
  {
   "cell_type": "code",
   "execution_count": 18,
   "metadata": {},
   "outputs": [
    {
     "name": "stdout",
     "output_type": "stream",
     "text": [
      "55\n"
     ]
    }
   ],
   "source": [
    "sum=0\n",
    "sum+=1\n",
    "sum+=2\n",
    "sum+=3\n",
    "sum+=4\n",
    "sum+=5\n",
    "sum+=6\n",
    "sum+=7\n",
    "sum+=8\n",
    "sum+=9\n",
    "sum+=10\n",
    "print(sum)"
   ]
  },
  {
   "cell_type": "code",
   "execution_count": 20,
   "metadata": {},
   "outputs": [
    {
     "name": "stdout",
     "output_type": "stream",
     "text": [
      "55\n"
     ]
    }
   ],
   "source": [
    "sum=0\n",
    "for i in range(1,11):\n",
    "    sum+=i\n",
    "print(sum)"
   ]
  },
  {
   "cell_type": "code",
   "execution_count": 22,
   "metadata": {},
   "outputs": [
    {
     "name": "stdout",
     "output_type": "stream",
     "text": [
      "1\n",
      "2\n",
      "3\n",
      "4\n",
      "5\n",
      "6\n",
      "10\n",
      "12\n",
      "15\n",
      "20\n",
      "30\n",
      "60\n"
     ]
    }
   ],
   "source": [
    "v=int(input(\"number:\"))\n",
    "for n in range(1,v+1):\n",
    "    if v%n==0:\n",
    "        print(n)"
   ]
  }
 ],
 "metadata": {
  "kernelspec": {
   "display_name": "Python 3",
   "language": "python",
   "name": "python3"
  },
  "language_info": {
   "codemirror_mode": {
    "name": "ipython",
    "version": 3
   },
   "file_extension": ".py",
   "mimetype": "text/x-python",
   "name": "python",
   "nbconvert_exporter": "python",
   "pygments_lexer": "ipython3",
   "version": "3.11.9"
  }
 },
 "nbformat": 4,
 "nbformat_minor": 2
}
