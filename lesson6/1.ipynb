{
 "cells": [
  {
   "cell_type": "code",
   "execution_count": 1,
   "metadata": {},
   "outputs": [
    {
     "ename": "SyntaxError",
     "evalue": "invalid syntax (4291747739.py, line 1)",
     "output_type": "error",
     "traceback": [
      "\u001b[0;36m  Cell \u001b[0;32mIn[1], line 1\u001b[0;36m\u001b[0m\n\u001b[0;31m    func gcd(a: Int, _ b: Int) -> Int {\u001b[0m\n\u001b[0m         ^\u001b[0m\n\u001b[0;31mSyntaxError\u001b[0m\u001b[0;31m:\u001b[0m invalid syntax\n"
     ]
    }
   ],
   "source": [
    "func gcd(a: Int, _ b: Int) -> Int {\n",
    "    let r = a % b\n",
    "    if r != 0 {\n",
    "        return gcd(b, r)\n",
    "    } else {\n",
    "        return b\n",
    "    }\n",
    "}\n",
    "\n",
    "\n",
    "gcd(52, 39)        // 13\n",
    "gcd(228, 36)       // 12\n",
    "gcd(51357, 3819)   // 57"
   ]
  },
  {
   "cell_type": "code",
   "execution_count": 1,
   "metadata": {},
   "outputs": [
    {
     "name": "stdout",
     "output_type": "stream",
     "text": [
      "60&50的公因數：\n",
      "1、\n",
      "2、\n",
      "5、\n",
      "10、\n"
     ]
    }
   ],
   "source": [
    "v1=int(input(\"no.1:\"))\n",
    "v2=int(input(\"no.2:\"))\n",
    "(max,min)=(v1,v2) if v1>v2 else (v2,v1)\n",
    "print(f\"{max}&{min}的公因數：\")\n",
    "for n in range(1,max+1):\n",
    "    if max%n==0 and min%n==0:\n",
    "        print(f\"{n}\",end=\"、\\n\")\n",
    "       "
   ]
  },
  {
   "cell_type": "code",
   "execution_count": 2,
   "metadata": {},
   "outputs": [
    {
     "name": "stdout",
     "output_type": "stream",
     "text": [
      "total=55\n",
      " 程式結束\n"
     ]
    }
   ],
   "source": [
    "t=0\n",
    "i=1\n",
    "while i<=10:\n",
    "    t+=i\n",
    "    i+=1\n",
    "print(f\"total={t}\\n 程式結束\")"
   ]
  },
  {
   "cell_type": "code",
   "execution_count": 3,
   "metadata": {},
   "outputs": [
    {
     "name": "stdout",
     "output_type": "stream",
     "text": [
      "已經存了21月，共存了31500元\n"
     ]
    }
   ],
   "source": [
    "#機車30000，每月存錢，等存夠\n",
    "deposit=0\n",
    "month=0\n",
    "while deposit<30000:\n",
    "    month+=1\n",
    "    money=int(input(f\"請輸入第{month}月存：\"))\n",
    "    deposit+=money\n",
    "print(f\"已經存了{month}月，共存了{deposit}元\")"
   ]
  },
  {
   "cell_type": "code",
   "execution_count": 4,
   "metadata": {},
   "outputs": [
    {
     "name": "stdout",
     "output_type": "stream",
     "text": [
      "Andjuehfrwiuhegfiuow\n",
      "Edfijwofjqp\n",
      "應用程式結束!\n"
     ]
    }
   ],
   "source": [
    "#請輸入小寫的英文字串,將英文字第1個字變大寫\n",
    "#請輸入小寫英文字[按q會離開]:\n",
    "#taiwan輸出Taiwan\n",
    "\n",
    "stuff = input(\"請輸入小寫英文字[按q會離開]:\")\n",
    "#print(type(stuff))\n",
    "while not stuff == 'q':\n",
    "    print(stuff.capitalize())\n",
    "    stuff = input(\"請輸入小寫英文字[按q會離開]:\")\n",
    "print(\"應用程式結束!\")"
   ]
  },
  {
   "cell_type": "code",
   "execution_count": 5,
   "metadata": {},
   "outputs": [
    {
     "name": "stdout",
     "output_type": "stream",
     "text": [
      "Wuertfhowqiuhrf\n",
      "Efjioqhnianfhv\n",
      "應用程式結束!\n"
     ]
    }
   ],
   "source": [
    "#請輸入小寫的英文字串,將英文字第1個字變大寫\n",
    "#請輸入小寫英文字[按q會離開]:\n",
    "#taiwan輸出Taiwan\n",
    "\n",
    "\n",
    "#print(type(stuff))\n",
    "while True:\n",
    "    stuff = input(\"請輸入小寫英文字[按q會離開]:\")\n",
    "    if stuff == 'q':\n",
    "        break\n",
    "    print(stuff.capitalize())\n",
    "    \n",
    "print(\"應用程式結束!\")"
   ]
  }
 ],
 "metadata": {
  "kernelspec": {
   "display_name": "Python 3",
   "language": "python",
   "name": "python3"
  },
  "language_info": {
   "codemirror_mode": {
    "name": "ipython",
    "version": 3
   },
   "file_extension": ".py",
   "mimetype": "text/x-python",
   "name": "python",
   "nbconvert_exporter": "python",
   "pygments_lexer": "ipython3",
   "version": "3.11.9"
  }
 },
 "nbformat": 4,
 "nbformat_minor": 2
}
