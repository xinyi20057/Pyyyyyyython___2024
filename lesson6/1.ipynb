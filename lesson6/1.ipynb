{
 "cells": [
  {
   "cell_type": "code",
   "execution_count": 1,
   "metadata": {},
   "outputs": [
    {
     "ename": "SyntaxError",
     "evalue": "invalid syntax (4291747739.py, line 1)",
     "output_type": "error",
     "traceback": [
      "\u001b[0;36m  Cell \u001b[0;32mIn[1], line 1\u001b[0;36m\u001b[0m\n\u001b[0;31m    func gcd(a: Int, _ b: Int) -> Int {\u001b[0m\n\u001b[0m         ^\u001b[0m\n\u001b[0;31mSyntaxError\u001b[0m\u001b[0;31m:\u001b[0m invalid syntax\n"
     ]
    }
   ],
   "source": [
    "func gcd(a: Int, _ b: Int) -> Int {\n",
    "    let r = a % b\n",
    "    if r != 0 {\n",
    "        return gcd(b, r)\n",
    "    } else {\n",
    "        return b\n",
    "    }\n",
    "}\n",
    "\n",
    "\n",
    "gcd(52, 39)        // 13\n",
    "gcd(228, 36)       // 12\n",
    "gcd(51357, 3819)   // 57"
   ]
  },
  {
   "cell_type": "code",
   "execution_count": 2,
   "metadata": {},
   "outputs": [
    {
     "name": "stdout",
     "output_type": "stream",
     "text": [
      "15&5的公因數：\n",
      "1、\n",
      "5、\n"
     ]
    }
   ],
   "source": [
    "v1=int(input(\"no.1:\"))\n",
    "v2=int(input(\"no.2:\"))\n",
    "(max,min)=(v1,v2) if v1>v2 else (v2,v1)\n",
    "print(f\"{max}&{min}的公因數：\")\n",
    "for n in range(1,max+1):\n",
    "    if max%n==0 and min%n==0:\n",
    "        print(f\"{n}\",end=\"、\\n\")\n",
    "       "
   ]
  }
 ],
 "metadata": {
  "kernelspec": {
   "display_name": "Python 3",
   "language": "python",
   "name": "python3"
  },
  "language_info": {
   "codemirror_mode": {
    "name": "ipython",
    "version": 3
   },
   "file_extension": ".py",
   "mimetype": "text/x-python",
   "name": "python",
   "nbconvert_exporter": "python",
   "pygments_lexer": "ipython3",
   "version": "3.11.9"
  }
 },
 "nbformat": 4,
 "nbformat_minor": 2
}
